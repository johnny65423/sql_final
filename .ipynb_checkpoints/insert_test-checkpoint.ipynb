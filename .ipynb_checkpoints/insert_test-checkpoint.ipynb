{
 "cells": [
  {
   "cell_type": "code",
   "execution_count": 1,
   "metadata": {},
   "outputs": [],
   "source": [
    "import pymysql\n",
    "import pandas as pd\n",
    "from tqdm import tqdm"
   ]
  },
  {
   "cell_type": "code",
   "execution_count": 2,
   "metadata": {},
   "outputs": [],
   "source": [
    "conn = pymysql.connect(user='root', password='', database='sql_final')"
   ]
  },
  {
   "cell_type": "code",
   "execution_count": 3,
   "metadata": {},
   "outputs": [],
   "source": [
    "cursor = conn.cursor()\n",
    "\n",
    "cursor.execute(\"SHOW TABLES\")\n",
    "\n",
    "records = cursor.fetchall()\n",
    "\n"
   ]
  },
  {
   "cell_type": "code",
   "execution_count": 4,
   "metadata": {},
   "outputs": [
    {
     "name": "stdout",
     "output_type": "stream",
     "text": [
      "()\n"
     ]
    }
   ],
   "source": [
    "print(records)"
   ]
  },
  {
   "cell_type": "code",
   "execution_count": null,
   "metadata": {},
   "outputs": [],
   "source": [
    "df = pd.read_csv('./NPA_TMA1_Need.csv')\n"
   ]
  },
  {
   "cell_type": "code",
   "execution_count": null,
   "metadata": {},
   "outputs": [],
   "source": [
    "df"
   ]
  },
  {
   "cell_type": "code",
   "execution_count": null,
   "metadata": {},
   "outputs": [],
   "source": [
    "for i, row in df.iterrows() :\n",
    "    datetime = str(int(row['發生日期']))\n",
    "    year = int(row['發生年度'])\n",
    "    month = int(row['發生月份'])\n",
    "    day = int(datetime[-2:])\n",
    "\n",
    "    data = (datetime, year, month, day)\n",
    "    query = \"SELECT * FROM date WHERE datetime = %s \"\n",
    "    cursor.execute(query, (datetime))\n",
    "    result = cursor.fetchone()\n",
    "\n",
    "    # 如果資料不存在，則插入資料\n",
    "    if not result:\n",
    "        query = \"INSERT INTO date (datetime, year, month, day) VALUES (%s, %s, %s, %s)\"\n",
    "        print(data)\n",
    "        cursor.execute(query, data)\n",
    "        print(\"insert:\",datetime, year, month, day)\n",
    "\n",
    "# 提交事務\n",
    "conn.commit()"
   ]
  },
  {
   "cell_type": "code",
   "execution_count": null,
   "metadata": {
    "scrolled": true
   },
   "outputs": [],
   "source": [
    "for i, row in df.iterrows() :\n",
    "    weather = str(row['天候名稱'])\n",
    "    road_type = str(row['道路類別-第1當事者-名稱'])\n",
    "    \n",
    "    data= (weather,road_type)\n",
    "    \n",
    "    query = \"SELECT * FROM condi WHERE (weather, road_type) = (%s, %s)\"\n",
    "    cursor.execute(query, data)\n",
    "    result = cursor.fetchone()\n",
    "    \n",
    "    if not result:\n",
    "        print(data)\n",
    "        query = \"INSERT INTO condi (weather, road_type) VALUES (%s, %s)\"\n",
    "        cursor.execute(query, data)\n",
    "        print(\"insert:\",weather, road_type)\n",
    "\n",
    "# 提交事務\n",
    "conn.commit()"
   ]
  },
  {
   "cell_type": "code",
   "execution_count": null,
   "metadata": {},
   "outputs": [],
   "source": [
    "for i, row in df.iterrows() :\n",
    "    cause_type = str(row['肇因研判子類別名稱-主要'])\n",
    "    hit_and_run = str(row['肇事逃逸類別名稱-是否肇逃'])\n",
    "    \n",
    "    if hit_and_run == \"否\":\n",
    "        hit_and_run=0\n",
    "    elif hit_and_run == \"是\":\n",
    "        hit_and_run=1\n",
    "    \n",
    "    data= (cause_type, hit_and_run)\n",
    "    \n",
    "    query = \"SELECT * FROM cause WHERE (cause_type, hit_and_run) = (%s, %s)\"\n",
    "    cursor.execute(query, data)\n",
    "    result = cursor.fetchone()\n",
    "    \n",
    "    if not result:\n",
    "        print(data)\n",
    "        query = \"INSERT INTO cause (cause_type, hit_and_run) VALUES (%s, %s)\"\n",
    "        cursor.execute(query, data)\n",
    "        print(\"insert:\",cause_type, hit_and_run)\n",
    "\n",
    "# 提交事務\n",
    "conn.commit()"
   ]
  },
  {
   "cell_type": "code",
   "execution_count": null,
   "metadata": {},
   "outputs": [],
   "source": [
    "for i, row in df.iterrows() :\n",
    "    city = str(row['發生地點'])\n",
    "    station = str(row['處理單位名稱警局層'])\n",
    "    city=city[0:3]\n",
    "    \n",
    "    data= (city, station)\n",
    "    \n",
    "    query = \"SELECT * FROM handle WHERE (city, station) = (%s, %s)\"\n",
    "    cursor.execute(query, data)\n",
    "    result = cursor.fetchone()\n",
    "    \n",
    "    if not result:\n",
    "        print(data)\n",
    "        query = \"INSERT INTO handle (city, station) VALUES (%s, %s)\"\n",
    "        cursor.execute(query, data)\n",
    "        print(\"insert:\", city, station)\n",
    "\n",
    "# 提交事務\n",
    "conn.commit()"
   ]
  },
  {
   "cell_type": "code",
   "execution_count": null,
   "metadata": {},
   "outputs": [],
   "source": [
    "def getdateid( datetime ):\n",
    "    d = str(int(datetime))\n",
    "    query = \"SELECT * FROM date WHERE datetime = %s\"\n",
    "    cursor.execute(query, d)\n",
    "    result = cursor.fetchone()\n",
    "    return result[0]"
   ]
  },
  {
   "cell_type": "code",
   "execution_count": null,
   "metadata": {},
   "outputs": [],
   "source": [
    "def getcondiid( weather, road_type ):\n",
    "    data= (str(weather),str(road_type))\n",
    "    \n",
    "    query = \"SELECT * FROM condi WHERE (weather, road_type) = (%s, %s)\"\n",
    "    cursor.execute(query, data)\n",
    "    result = cursor.fetchone()\n",
    "    return result[0]"
   ]
  },
  {
   "cell_type": "code",
   "execution_count": null,
   "metadata": {},
   "outputs": [],
   "source": [
    "def getcauseid( cause, hit_and_run ):\n",
    "    if hit_and_run == \"否\":\n",
    "        hit_and_run=0\n",
    "    elif hit_and_run == \"是\":\n",
    "        hit_and_run=1\n",
    "    data= (str(cause),int(hit_and_run))\n",
    "    \n",
    "    query = \"SELECT * FROM cause WHERE (cause_type, hit_and_run) = (%s, %s)\"\n",
    "    cursor.execute(query, data)\n",
    "    result = cursor.fetchone()\n",
    "    return result[0]"
   ]
  },
  {
   "cell_type": "code",
   "execution_count": null,
   "metadata": {},
   "outputs": [],
   "source": [
    "def gethandleid( city, station ):\n",
    "    data= (str(city),str(station))\n",
    "    \n",
    "    query = \"SELECT * FROM handle WHERE (city, station) = (%s, %s)\"\n",
    "    cursor.execute(query, data)\n",
    "    result = cursor.fetchone()\n",
    "    return result[0]"
   ]
  },
  {
   "cell_type": "code",
   "execution_count": null,
   "metadata": {},
   "outputs": [],
   "source": [
    "gethandleid('臺北市', '國道公路警察局')"
   ]
  },
  {
   "cell_type": "code",
   "execution_count": null,
   "metadata": {},
   "outputs": [],
   "source": [
    "for i, row in tqdm(df.iterrows()) :\n",
    "    date_id = getdateid(row['發生日期'])\n",
    "    cause_id = getcauseid(row['肇因研判子類別名稱-主要'],row['肇事逃逸類別名稱-是否肇逃'])\n",
    "    condi_id =getcondiid(row['天候名稱'],row['道路類別-第1當事者-名稱'])\n",
    "    handle_id = gethandleid(str(row['發生地點'][:3]), row['處理單位名稱警局層'])\n",
    "    accident_type = row['事故類型及型態子類別名稱']\n",
    "    \n",
    "    data = (accident_type, date_id, handle_id,cause_id,condi_id)\n",
    "    #print(data)\n",
    "    \n",
    "    \n",
    "    query = \"SELECT * FROM accident WHERE (accident_type, date_id, handle_id, cause_id, condition_id ) = (%s, %s, %s, %s, %s)\"\n",
    "    cursor.execute(query, data)\n",
    "    result = cursor.fetchone()\n",
    "    \n",
    "    if not result:\n",
    "        #print(data)\n",
    "        query = \"INSERT INTO accident (accident_type, date_id, handle_id, cause_id, condition_id ) VALUES (%s, %s, %s, %s, %s)\"\n",
    "        cursor.execute(query, data)\n",
    "        print(\"insert:\", data)\n",
    "\n",
    "# 提交事務\n",
    "conn.commit()"
   ]
  },
  {
   "cell_type": "code",
   "execution_count": null,
   "metadata": {},
   "outputs": [],
   "source": [
    "def geteventid( row ):\n",
    "    date_id = getdateid(row['發生日期'])\n",
    "    cause_id = getcauseid(row['肇因研判子類別名稱-主要'],row['肇事逃逸類別名稱-是否肇逃'])\n",
    "    condi_id =getcondiid(row['天候名稱'],row['道路類別-第1當事者-名稱'])\n",
    "    handle_id = gethandleid(str(row['發生地點'][:3]), row['處理單位名稱警局層'])\n",
    "    accident_type = row['事故類型及型態子類別名稱']\n",
    "    data = (accident_type, date_id, handle_id,cause_id,condi_id)\n",
    "    query = \"SELECT * FROM accident WHERE (accident_type, date_id, handle_id, cause_id, condition_id ) = (%s, %s, %s, %s, %s)\"\n",
    "    cursor.execute(query, data)\n",
    "    result = cursor.fetchone()\n",
    "    return result[0]"
   ]
  },
  {
   "cell_type": "code",
   "execution_count": null,
   "metadata": {},
   "outputs": [],
   "source": [
    "for i, row in tqdm(df.iterrows()) :\n",
    "    car = True\n",
    "    age = int(row['當事者事故發生時年齡'])\n",
    "    car_type = str(row['當事者區分-類別-大類別名稱-車種'])\n",
    "    if car_type == '小貨車(含客、貨兩用)':\n",
    "        car_type = '小貨車'\n",
    "    if pd.isnull(row['當事者區分-類別-大類別名稱-車種']) :\n",
    "        car =False\n",
    "    event_id = geteventid(row)\n",
    "    people_order = int(row['當事者順位'])\n",
    "    sex = str(row['當事者屬-性-別名稱'])\n",
    "    if sex == '無或物(動物、堆置物)':\n",
    "        sex = '無或物'\n",
    "    elif sex == '肇事逃逸尚未查獲':\n",
    "        sex = '未知'\n",
    "\n",
    "    if car :\n",
    "        data = (age, car_type, event_id, people_order, sex)\n",
    "    else :\n",
    "        data = (age, event_id, people_order, sex)\n",
    "\n",
    "    if car :\n",
    "        query = \"SELECT * FROM people WHERE (age, car_type, event_id, people_order, sex) = (%s, %s, %s, %s, %s)\"\n",
    "    else :\n",
    "        query = \"SELECT * FROM people WHERE (age, event_id, people_order, sex) = (%s, %s, %s, %s)\"\n",
    "    cursor.execute(query, data)\n",
    "    result = cursor.fetchone()\n",
    "\n",
    "    if not result:\n",
    "        #print(data)\n",
    "        if car :\n",
    "            query = \"INSERT INTO people (age, car_type, event_id, people_order, sex) VALUES (%s, %s, %s, %s, %s)\"\n",
    "        else :\n",
    "            query = \"INSERT INTO people (age, event_id, people_order, sex) VALUES (%s, %s, %s, %s)\"\n",
    "        cursor.execute(query, data)\n",
    "        print(\"insert:\", data)\n",
    "# 提交事務\n",
    "conn.commit()"
   ]
  },
  {
   "cell_type": "code",
   "execution_count": null,
   "metadata": {},
   "outputs": [],
   "source": [
    "cursor.close()"
   ]
  },
  {
   "cell_type": "code",
   "execution_count": null,
   "metadata": {},
   "outputs": [],
   "source": [
    "conn.close()"
   ]
  },
  {
   "cell_type": "code",
   "execution_count": null,
   "metadata": {},
   "outputs": [],
   "source": []
  }
 ],
 "metadata": {
  "kernelspec": {
   "display_name": "Python 3",
   "language": "python",
   "name": "python3"
  },
  "language_info": {
   "codemirror_mode": {
    "name": "ipython",
    "version": 3
   },
   "file_extension": ".py",
   "mimetype": "text/x-python",
   "name": "python",
   "nbconvert_exporter": "python",
   "pygments_lexer": "ipython3",
   "version": "3.8.5"
  },
  "vscode": {
   "interpreter": {
    "hash": "9d40b60e9cc018f24c8ba695343637a250392a7e5c753097a8aaa88916ddf841"
   }
  }
 },
 "nbformat": 4,
 "nbformat_minor": 2
}
