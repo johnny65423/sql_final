{
 "cells": [
  {
   "cell_type": "code",
   "execution_count": null,
   "metadata": {},
   "outputs": [],
   "source": [
    "import pymysql\n",
    "import pandas as pd"
   ]
  },
  {
   "cell_type": "code",
   "execution_count": null,
   "metadata": {},
   "outputs": [],
   "source": [
    "conn = pymysql.connect(user='root', password='', database='sql_final')"
   ]
  },
  {
   "cell_type": "code",
   "execution_count": null,
   "metadata": {},
   "outputs": [],
   "source": [
    "cursor = conn.cursor()\n",
    "\n",
    "cursor.execute(\"SHOW TABLES\")\n",
    "\n",
    "records = cursor.fetchall()\n",
    "\n"
   ]
  },
  {
   "cell_type": "code",
   "execution_count": null,
   "metadata": {},
   "outputs": [],
   "source": [
    "print(records)"
   ]
  },
  {
   "cell_type": "code",
   "execution_count": null,
   "metadata": {},
   "outputs": [],
   "source": [
    "df = pd.read_csv('./NPA_TMA1_Need.csv')\n"
   ]
  },
  {
   "cell_type": "code",
   "execution_count": null,
   "metadata": {},
   "outputs": [],
   "source": [
    "df"
   ]
  },
  {
   "cell_type": "code",
   "execution_count": null,
   "metadata": {},
   "outputs": [],
   "source": [
    "for i, row in df.iterrows() :\n",
    "    datetime = str(int(row['發生日期']))\n",
    "    year = int(row['發生年度'])\n",
    "    month = int(row['發生月份'])\n",
    "    day = int(datetime[-2:])\n",
    "\n",
    "    data = (datetime, year, month, day)\n",
    "    query = \"SELECT * FROM date WHERE datetime = %s \"\n",
    "    cursor.execute(query, (datetime))\n",
    "    result = cursor.fetchone()\n",
    "\n",
    "    # 如果資料不存在，則插入資料\n",
    "    if not result:\n",
    "        query = \"INSERT INTO date (datetime, year, month, day) VALUES (%s, %s, %s, %s)\"\n",
    "        print(data)\n",
    "        cursor.execute(query, data)\n",
    "        print(\"insert:\",datetime, year, month, day)\n",
    "\n",
    "# 提交事務\n",
    "conn.commit()"
   ]
  },
  {
   "cell_type": "code",
   "execution_count": null,
   "metadata": {
    "scrolled": true
   },
   "outputs": [],
   "source": [
    "for i, row in df.iterrows() :\n",
    "    weather = str(row['天候名稱'])\n",
    "    road_type = str(row['道路類別-第1當事者-名稱'])\n",
    "    \n",
    "    data= (weather,road_type)\n",
    "    \n",
    "    query = \"SELECT * FROM condi WHERE (weather, road_type) = (%s, %s)\"\n",
    "    cursor.execute(query, data)\n",
    "    result = cursor.fetchone()\n",
    "    \n",
    "    if not result:\n",
    "        print(data)\n",
    "        query = \"INSERT INTO condi (weather, road_type) VALUES (%s, %s)\"\n",
    "        cursor.execute(query, data)\n",
    "        print(\"insert:\",weather, road_type)\n",
    "\n",
    "# 提交事務\n",
    "conn.commit()"
   ]
  },
  {
   "cell_type": "code",
   "execution_count": null,
   "metadata": {},
   "outputs": [],
   "source": [
    "for i, row in df.iterrows() :\n",
    "    cause_type = str(row['肇因研判子類別名稱-主要'])\n",
    "    hit_and_run = str(row['肇事逃逸類別名稱-是否肇逃'])\n",
    "    \n",
    "    if hit_and_run == \"否\":\n",
    "        hit_and_run=0\n",
    "    elif hit_and_run == \"是\":\n",
    "        hit_and_run=1\n",
    "    \n",
    "    data= (cause_type, hit_and_run)\n",
    "    \n",
    "    query = \"SELECT * FROM cause WHERE (cause_type, hit_and_run) = (%s, %s)\"\n",
    "    cursor.execute(query, data)\n",
    "    result = cursor.fetchone()\n",
    "    \n",
    "    if not result:\n",
    "        print(data)\n",
    "        query = \"INSERT INTO cause (cause_type, hit_and_run) VALUES (%s, %s)\"\n",
    "        cursor.execute(query, data)\n",
    "        print(\"insert:\",cause_type, hit_and_run)\n",
    "\n",
    "# 提交事務\n",
    "conn.commit()"
   ]
  },
  {
   "cell_type": "code",
   "execution_count": null,
   "metadata": {},
   "outputs": [],
   "source": [
    "for i, row in df.iterrows() :\n",
    "    city = str(row['發生地點'])\n",
    "    station = str(row['處理單位名稱警局層'])\n",
    "    city=city[0:3]\n",
    "    \n",
    "    data= (city, station)\n",
    "    \n",
    "    query = \"SELECT * FROM handle WHERE (city, station) = (%s, %s)\"\n",
    "    cursor.execute(query, data)\n",
    "    result = cursor.fetchone()\n",
    "    \n",
    "    if not result:\n",
    "        print(data)\n",
    "        query = \"INSERT INTO handle (city, station) VALUES (%s, %s)\"\n",
    "        cursor.execute(query, data)\n",
    "        print(\"insert:\", city, station)\n",
    "\n",
    "# 提交事務\n",
    "conn.commit()"
   ]
  },
  {
   "cell_type": "code",
   "execution_count": null,
   "metadata": {},
   "outputs": [],
   "source": [
    "cursor.close()"
   ]
  },
  {
   "cell_type": "code",
   "execution_count": null,
   "metadata": {},
   "outputs": [],
   "source": [
    "conn.close()"
   ]
  },
  {
   "cell_type": "code",
   "execution_count": null,
   "metadata": {},
   "outputs": [],
   "source": []
  }
 ],
 "metadata": {
  "kernelspec": {
   "display_name": "NDPta",
   "language": "python",
   "name": "python3"
  },
  "language_info": {
   "codemirror_mode": {
    "name": "ipython",
    "version": 3
   },
   "file_extension": ".py",
   "mimetype": "text/x-python",
   "name": "python",
   "nbconvert_exporter": "python",
   "pygments_lexer": "ipython3",
   "version": "3.9.13 (tags/v3.9.13:6de2ca5, May 17 2022, 16:36:42) [MSC v.1929 64 bit (AMD64)]"
  },
  "vscode": {
   "interpreter": {
    "hash": "52f4d4b0abecf9d9e7aebbe0a59b519171f980e2f8d562c1bae8852e338ad3d9"
   }
  }
 },
 "nbformat": 4,
 "nbformat_minor": 2
}
